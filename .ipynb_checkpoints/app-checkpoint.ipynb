{
 "cells": [
  {
   "cell_type": "code",
   "execution_count": null,
   "id": "2f940095-53c4-4c0b-8370-72dbf4fcc48a",
   "metadata": {},
   "outputs": [
    {
     "name": "stdout",
     "output_type": "stream",
     "text": [
      " * Serving Flask app '__main__'\n",
      " * Debug mode: on\n"
     ]
    },
    {
     "name": "stderr",
     "output_type": "stream",
     "text": [
      "WARNING: This is a development server. Do not use it in a production deployment. Use a production WSGI server instead.\n",
      " * Running on http://127.0.0.1:5000\n",
      "Press CTRL+C to quit\n",
      "127.0.0.1 - - [17/Oct/2025 10:47:16] \"GET / HTTP/1.1\" 200 -\n",
      "127.0.0.1 - - [17/Oct/2025 10:47:16] \"GET /static/css/style.css HTTP/1.1\" 200 -\n",
      "127.0.0.1 - - [17/Oct/2025 10:47:16] \"GET /static/images/books/barbarians_at_the_gate.jpg HTTP/1.1\" 304 -\n",
      "127.0.0.1 - - [17/Oct/2025 10:47:21] \"GET /book/barbarians-at-the-gate HTTP/1.1\" 200 -\n",
      "127.0.0.1 - - [17/Oct/2025 10:47:21] \"GET /static/css/style.css HTTP/1.1\" 304 -\n",
      "127.0.0.1 - - [17/Oct/2025 10:47:21] \"GET /static/images/maps/cigarette_map.png HTTP/1.1\" 304 -\n",
      "127.0.0.1 - - [17/Oct/2025 10:47:21] \"GET /static/images/books/barbarians_at_the_gate.jpg HTTP/1.1\" 304 -\n",
      "127.0.0.1 - - [17/Oct/2025 10:47:21] \"GET /static/notebooks/cigarettes.html HTTP/1.1\" 304 -\n",
      "127.0.0.1 - - [17/Oct/2025 10:47:52] \"GET /book/barbarians-at-the-gate HTTP/1.1\" 200 -\n",
      "127.0.0.1 - - [17/Oct/2025 10:47:52] \"GET /static/css/style.css HTTP/1.1\" 304 -\n",
      "127.0.0.1 - - [17/Oct/2025 10:47:52] \"GET /static/images/books/barbarians_at_the_gate.jpg HTTP/1.1\" 304 -\n",
      "127.0.0.1 - - [17/Oct/2025 10:47:52] \"GET /static/images/maps/cigarette_map.png HTTP/1.1\" 304 -\n",
      "127.0.0.1 - - [17/Oct/2025 10:47:52] \"GET /static/notebooks/cigarettes.html HTTP/1.1\" 304 -\n"
     ]
    }
   ],
   "source": [
    "from flask import Flask, render_template, json\n",
    "\n",
    "app = Flask(__name__)\n",
    "\n",
    "# Home page – list of books\n",
    "@app.route('/')\n",
    "def index():\n",
    "    with open('data/books.json') as f:\n",
    "        books = json.load(f)\n",
    "    return render_template('index.html', books=books)\n",
    "\n",
    "# Individual book page\n",
    "@app.route('/book/<slug>')\n",
    "def book(slug):\n",
    "    with open('data/books.json') as f:\n",
    "        books = json.load(f)\n",
    "    book = next((b for b in books if b[\"slug\"] == slug), None)\n",
    "    if not book:\n",
    "        return \"Book not found\", 404\n",
    "    return render_template('book.html', book=book)\n",
    "\n",
    "if __name__ == '__main__':\n",
    "    app.run(debug=True, use_reloader=False)"
   ]
  },
  {
   "cell_type": "code",
   "execution_count": null,
   "id": "b621cc53-bebc-4247-8045-759d08ba6fc7",
   "metadata": {},
   "outputs": [],
   "source": []
  },
  {
   "cell_type": "code",
   "execution_count": null,
   "id": "1256fabe-6b0e-45b8-aded-4d676edc943d",
   "metadata": {},
   "outputs": [],
   "source": []
  }
 ],
 "metadata": {
  "kernelspec": {
   "display_name": "Python 3 (ipykernel)",
   "language": "python",
   "name": "python3"
  },
  "language_info": {
   "codemirror_mode": {
    "name": "ipython",
    "version": 3
   },
   "file_extension": ".py",
   "mimetype": "text/x-python",
   "name": "python",
   "nbconvert_exporter": "python",
   "pygments_lexer": "ipython3",
   "version": "3.11.13"
  }
 },
 "nbformat": 4,
 "nbformat_minor": 5
}
